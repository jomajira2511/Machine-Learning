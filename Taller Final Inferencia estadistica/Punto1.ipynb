{
 "cells": [
  {
   "cell_type": "code",
   "execution_count": 1,
   "id": "fce341ff",
   "metadata": {},
   "outputs": [
    {
     "name": "stdout",
     "output_type": "stream",
     "text": [
      "Media por fórmula:\n",
      "Formula\n",
      "A    28.6\n",
      "B    20.2\n",
      "C    22.4\n",
      "D    29.8\n",
      "E    26.0\n",
      "Name: Fuerza, dtype: float64\n"
     ]
    },
    {
     "name": "stderr",
     "output_type": "stream",
     "text": [
      "C:\\Users\\$\\AppData\\Local\\Temp\\ipykernel_9656\\1743784578.py:33: FutureWarning: \n",
      "\n",
      "Passing `palette` without assigning `hue` is deprecated and will be removed in v0.14.0. Assign the `x` variable to `hue` and set `legend=False` for the same effect.\n",
      "\n",
      "  sns.boxplot(x=\"Formula\", y=\"Fuerza\", data=df, palette=\"Set2\")\n"
     ]
    },
    {
     "data": {
      "image/png": "[encoded data removed]",
      "text/plain": [
       "<Figure size 800x500 with 1 Axes>"
      ]
     },
     "metadata": {},
     "output_type": "display_data"
    }
   ],
   "source": [
    "import pandas as pd\n",
    "import seaborn as sns\n",
    "import matplotlib.pyplot as plt\n",
    "\n",
    "# Datos\n",
    "data = {\n",
    "    \"Lote\": [1]*5 + [2]*5 + [3]*5 + [4]*5 + [5]*5,\n",
    "    \"Operario\": [1,2,3,4,5]*5,\n",
    "    \"Formula\": [\n",
    "        'A','B','C','D','E',\n",
    "        'B','C','D','E','A',\n",
    "        'C','D','E','A','B',\n",
    "        'D','E','A','B','C',\n",
    "        'E','A','B','C','D'\n",
    "    ],\n",
    "    \"Fuerza\": [\n",
    "        24, 20, 19, 24, 24,\n",
    "        17, 24, 30, 27, 36,\n",
    "        18, 38, 26, 27, 21,\n",
    "        26, 31, 26, 23, 22,\n",
    "        22, 30, 20, 29, 31\n",
    "    ]\n",
    "}\n",
    "\n",
    "df = pd.DataFrame(data)\n",
    "\n",
    "# Estadísticas descriptivas por fórmula\n",
    "print(\"Media por fórmula:\")\n",
    "print(df.groupby(\"Formula\")[\"Fuerza\"].mean())\n",
    "\n",
    "# Boxplot para comparar visualmente\n",
    "plt.figure(figsize=(8, 5))\n",
    "sns.boxplot(x=\"Formula\", y=\"Fuerza\", data=df, palette=\"Set2\")\n",
    "plt.title(\"Distribución de fuerza por fórmula\")\n",
    "plt.xlabel(\"Fórmula de dinamita\")\n",
    "plt.ylabel(\"Fuerza explosiva\")\n",
    "plt.grid(True)\n",
    "plt.show()\n",
    "\n"
   ]
  },
  {
   "cell_type": "markdown",
   "id": "7da3d0e3",
   "metadata": {},
   "source": [
    "En el paso anterior, se realizo la graficacion del cuadro, usando pandas, matplotlib y seaborn como librerias que permiten generar graficos para entender de manera mas facil la informacion\n",
    "\n",
    "A continuacion una pequeña interpretacion de la informacion y graficacion anteriormente presentada \n",
    "\n",
    "D) tiene la mayor media: 29.8\n",
    "\n",
    "A) también es alta: 28.6\n",
    "\n",
    "B) es claramente la más baja: 20.2\n",
    "\n",
    "Hay una diferencia visible de más de 9 unidades entre la mejor y la peor fórmula."
   ]
  },
  {
   "cell_type": "code",
   "execution_count": 2,
   "id": "aaa8fb2b",
   "metadata": {},
   "outputs": [
    {
     "name": "stdout",
     "output_type": "stream",
     "text": [
      "             sum_sq    df         F    PR(>F)\n",
      "C(Formula)    330.0   4.0  7.734375  0.002537\n",
      "C(Lote)        68.0   4.0  1.593750  0.239059\n",
      "C(Operario)   150.0   4.0  3.515625  0.040373\n",
      "Residual      128.0  12.0       NaN       NaN\n"
     ]
    }
   ],
   "source": [
    "import statsmodels.api as sm\n",
    "from statsmodels.formula.api import ols\n",
    "\n",
    "# Convertir columnas categóricas\n",
    "df['Lote'] = df['Lote'].astype('category')\n",
    "df['Operario'] = df['Operario'].astype('category')\n",
    "df['Formula'] = df['Formula'].astype('category')\n",
    "\n",
    "# Modelo ANOVA (sin interacciones)\n",
    "modelo = ols('Fuerza ~ C(Formula) + C(Lote) + C(Operario)', data=df).fit()\n",
    "anova = sm.stats.anova_lm(modelo, typ=2)  # typ=2 es más adecuado aquí\n",
    "\n",
    "print(anova)\n"
   ]
  },
  {
   "cell_type": "markdown",
   "id": "b56cf766",
   "metadata": {},
   "source": [
    "Interpretación final despues de analizar los datos\n",
    "\n",
    "Fórmula:\n",
    "Valor-p = 0.0025 < 0.05 → Significativo\n",
    "\n",
    "Dado los resultados es correcto decir que hay evidencia estadística para rechazar la hipótesis nula.\n",
    "\n",
    "Conclusión:\n",
    "Al menos una de las fórmulas tiene un efecto significativamente distinto sobre la fuerza explosiva.\n",
    "\n",
    "Lote:\n",
    "Valor-p = 0.2390 > 0.05 → No significativo\n",
    "No hay evidencia suficiente para decir que los diferentes lotes afectan la fuerza explosiva.\n",
    "\n",
    "Operario:\n",
    "Valor-p = 0.0404 < 0.05 → Significativo\n",
    "\n",
    "Con la informacion suministrada se puede concluir que sí hay evidencia de que la habilidad o experiencia del operario influye en la fuerza explosiva.\n",
    "\n",
    "Conclusión general:\n",
    "\n",
    "Para este caso se pueden concluir dos items principales \n",
    "1. Que sí existen diferencias significativas entre las fórmulas en cuanto a su efecto sobre la fuerza explosiva.\n",
    "\n",
    "2. Que también influye el operario, pero no el lote de materia prima."
   ]
  }
 ],
 "metadata": {
  "kernelspec": {
   "display_name": "Python 3",
   "language": "python",
   "name": "python3"
  },
  "language_info": {
   "codemirror_mode": {
    "name": "ipython",
    "version": 3
   },
   "file_extension": ".py",
   "mimetype": "text/x-python",
   "name": "python",
   "nbconvert_exporter": "python",
   "pygments_lexer": "ipython3",
   "version": "3.13.4"
  }
 },
 "nbformat": 4,
 "nbformat_minor": 5
}
