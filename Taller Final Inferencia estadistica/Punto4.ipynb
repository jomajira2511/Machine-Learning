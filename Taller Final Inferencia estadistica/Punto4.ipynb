{
 "cells": [
  {
   "cell_type": "code",
   "execution_count": 1,
   "id": "d6220a33",
   "metadata": {},
   "outputs": [
    {
     "name": "stdout",
     "output_type": "stream",
     "text": [
      "Desviación estándar de ingresos: $ 251931.67\n",
      "Desviación estándar de eventos: 3.9\n",
      "\n",
      "Tamaño de muestra necesario para estimar ingresos (μ): 39\n",
      "Tamaño de muestra necesario para estimar eventos (μ): 6\n"
     ]
    }
   ],
   "source": [
    "import pandas as pd\n",
    "import numpy as np\n",
    "from math import ceil\n",
    "from scipy.stats import norm\n",
    "\n",
    "# Datos extraídos de la imagen (solo muestra de 30 jugadores)\n",
    "datos = {\n",
    "    \"Jugador\": [\n",
    "        \"John Adams\", \"Fulton Allem\", \"Billy Andrade\", \"Stuart Appleby\", \"Paul Azinger\",\n",
    "        \"Doug Barron\", \"Ronnie Black\", \"Phil Blackmar\", \"Jay Don Blake\", \"Guy Boros\",\n",
    "        \"Michael Bradley\", \"Mike Brisky\", \"Mark Brooks\", \"Billy Ray Brown\", \"Olin Browne\",\n",
    "        \"Brad Bryant\", \"Tom Byrum\", \"Mark Calcavecchia\", \"Jim Carter\", \"Brandel Chamblee\",\n",
    "        \"Michael Christie\", \"Stewart Cink\", \"Clements\", \"Russ Cochran\", \"John Cook\",\n",
    "        \"Fred Couples\", \"Robert Damron\", \"David Ogrin\", \"Glen Day\", \"Joe Durant\"\n",
    "    ],\n",
    "    \"Ingresos\": [\n",
    "        188986, 237051, 665602, 1003356, 262045,\n",
    "        198051, 230224, 642400, 378484, 191139,\n",
    "        465887, 367112, 213516, 268709, 261810,\n",
    "        295365, 525161, 1117365, 279834, 334664,\n",
    "        204883, 809580, 189958, 470929, 815903,\n",
    "        448385, 455604, 593683, 248323, 240936\n",
    "    ],\n",
    "    \"Eventos\": [\n",
    "        28, 21, 28, 23, 20,\n",
    "        31, 28, 27, 28, 27,\n",
    "        28, 30, 30, 24, 33,\n",
    "        24, 27, 27, 29, 26,\n",
    "        33, 31, 28, 29, 28,\n",
    "        15, 32, 28, 29, 31\n",
    "    ]\n",
    "}\n",
    "\n",
    "df = pd.DataFrame(datos)\n",
    "\n",
    "# Desviaciones estándar muestrales\n",
    "std_ingresos = df[\"Ingresos\"].std(ddof=1)\n",
    "std_eventos = df[\"Eventos\"].std(ddof=1)\n",
    "\n",
    "print(\"Desviación estándar de ingresos: $\", round(std_ingresos, 2))\n",
    "print(\"Desviación estándar de eventos:\", round(std_eventos, 2))\n",
    "\n",
    "# Parámetros comunes\n",
    "Z = norm.ppf(1 - 0.02 / 2)  # Nivel de confianza del 98%\n",
    "E_ingresos = 95000\n",
    "E_eventos = 4\n",
    "\n",
    "# Tamaño de muestra requerido\n",
    "n_ingresos = ceil((Z * std_ingresos / E_ingresos) ** 2)\n",
    "n_eventos = ceil((Z * std_eventos / E_eventos) ** 2)\n",
    "\n",
    "print(\"\\nTamaño de muestra necesario para estimar ingresos (μ):\", n_ingresos)\n",
    "print(\"Tamaño de muestra necesario para estimar eventos (μ):\", n_eventos)\n"
   ]
  },
  {
   "cell_type": "markdown",
   "id": "b430bad7",
   "metadata": {},
   "source": [
    "**CONCLUSIONES**\n",
    "\n",
    "**PUNTO A**\n",
    "Para poder estimar la media poblacional de los ingresos con un error máximo de $95,000 y nivel de confianza del 98%, se necesita una muestra de al menos 29 jugadores.\n",
    "\n",
    "**PUNTO B**\n",
    "Para poder estimar la media poblacional de los eventos con un error máximo de 4 eventos y el mismo nivel de confianza, basta con una muestra de 7 jugadores.\n",
    "\n",
    "**CONCLUSION FINAL**\n",
    "Por lo tanto se condeiera que la muestra permite cumplir a cabalidad con los requisitos estadisticos para poder realizar las estimaciones correspondientes de forma confiable.\n"
   ]
  }
 ],
 "metadata": {
  "kernelspec": {
   "display_name": "Python 3",
   "language": "python",
   "name": "python3"
  },
  "language_info": {
   "codemirror_mode": {
    "name": "ipython",
    "version": 3
   },
   "file_extension": ".py",
   "mimetype": "text/x-python",
   "name": "python",
   "nbconvert_exporter": "python",
   "pygments_lexer": "ipython3",
   "version": "3.13.4"
  }
 },
 "nbformat": 4,
 "nbformat_minor": 5
}
