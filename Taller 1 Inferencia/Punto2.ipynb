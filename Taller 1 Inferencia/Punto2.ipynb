{
 "cells": [
  {
   "cell_type": "code",
   "execution_count": 1,
   "id": "459a589d",
   "metadata": {},
   "outputs": [
    {
     "data": {
      "text/html": [
       "<div>\n",
       "<style scoped>\n",
       "    .dataframe tbody tr th:only-of-type {\n",
       "        vertical-align: middle;\n",
       "    }\n",
       "\n",
       "    .dataframe tbody tr th {\n",
       "        vertical-align: top;\n",
       "    }\n",
       "\n",
       "    .dataframe thead th {\n",
       "        text-align: right;\n",
       "    }\n",
       "</style>\n",
       "<table border=\"1\" class=\"dataframe\">\n",
       "  <thead>\n",
       "    <tr style=\"text-align: right;\">\n",
       "      <th></th>\n",
       "      <th>Bloque</th>\n",
       "      <th>Tratamiento</th>\n",
       "      <th>Semillas</th>\n",
       "    </tr>\n",
       "  </thead>\n",
       "  <tbody>\n",
       "    <tr>\n",
       "      <th>0</th>\n",
       "      <td>1</td>\n",
       "      <td>Tratamiento 1</td>\n",
       "      <td>7</td>\n",
       "    </tr>\n",
       "    <tr>\n",
       "      <th>1</th>\n",
       "      <td>2</td>\n",
       "      <td>Tratamiento 1</td>\n",
       "      <td>8</td>\n",
       "    </tr>\n",
       "    <tr>\n",
       "      <th>2</th>\n",
       "      <td>3</td>\n",
       "      <td>Tratamiento 1</td>\n",
       "      <td>9</td>\n",
       "    </tr>\n",
       "    <tr>\n",
       "      <th>3</th>\n",
       "      <td>4</td>\n",
       "      <td>Tratamiento 1</td>\n",
       "      <td>10</td>\n",
       "    </tr>\n",
       "    <tr>\n",
       "      <th>4</th>\n",
       "      <td>5</td>\n",
       "      <td>Tratamiento 1</td>\n",
       "      <td>11</td>\n",
       "    </tr>\n",
       "  </tbody>\n",
       "</table>\n",
       "</div>"
      ],
      "text/plain": [
       "   Bloque    Tratamiento  Semillas\n",
       "0       1  Tratamiento 1         7\n",
       "1       2  Tratamiento 1         8\n",
       "2       3  Tratamiento 1         9\n",
       "3       4  Tratamiento 1        10\n",
       "4       5  Tratamiento 1        11"
      ]
     },
     "execution_count": 1,
     "metadata": {},
     "output_type": "execute_result"
    }
   ],
   "source": [
    "import pandas as pd\n",
    "\n",
    "# Crear DataFrame desde los datos\n",
    "data = {\n",
    "    'Bloque': list(range(1, 11)) * 3,\n",
    "    'Tratamiento': ['Tratamiento 1']*10 + ['Tratamiento 2']*10 + ['Tratamiento 3']*10,\n",
    "    'Semillas': [\n",
    "        7, 8, 9, 10, 11, 8, 7, 8, 7, 8,\n",
    "        9, 9, 9, 9, 12, 10, 8, 8, 9, 9,\n",
    "        10, 10, 12, 12, 14, 9, 7, 7, 10, 10\n",
    "    ]\n",
    "}\n",
    "\n",
    "df = pd.DataFrame(data)\n",
    "df.head()\n"
   ]
  },
  {
   "cell_type": "code",
   "execution_count": 2,
   "id": "1e5f85e4",
   "metadata": {},
   "outputs": [
    {
     "name": "stdout",
     "output_type": "stream",
     "text": [
      "                sum_sq    df         F    PR(>F)\n",
      "C(Tratamiento)    16.2   2.0  9.227848  0.001744\n",
      "C(Bloque)         54.8   9.0  6.936709  0.000260\n",
      "Residual          15.8  18.0       NaN       NaN\n"
     ]
    }
   ],
   "source": [
    "import statsmodels.api as sm\n",
    "from statsmodels.formula.api import ols\n",
    "\n",
    "# Modelo con bloques y tratamientos\n",
    "modelo = ols('Semillas ~ C(Tratamiento) + C(Bloque)', data=df).fit()\n",
    "anova_table = sm.stats.anova_lm(modelo, typ=2)\n",
    "print(anova_table)\n"
   ]
  },
  {
   "cell_type": "markdown",
   "id": "11ddb787",
   "metadata": {},
   "source": [
    "**PUNTO A**\n",
    "\n",
    "**HIPOTESIS**\n",
    "\n",
    "H₀: No hay diferencia en el número medio de semillas entre tratamientos.\n",
    "\n",
    "H₁: Al menos un tratamiento tiene un efecto diferente sobre la producción de semillas."
   ]
  },
  {
   "cell_type": "markdown",
   "id": "7a4a5348",
   "metadata": {},
   "source": [
    "**Resultados:**\n",
    "\n",
    "**Tratamiento:**\n",
    "\n",
    "F = 9.23\n",
    "\n",
    "p-valor = 0.001744 (< 0.05)\n",
    "\n",
    "**Bloque (Abeto):**\n",
    "\n",
    "F = 6.94\n",
    "\n",
    "p-valor = 0.000260 (< 0.05)"
   ]
  },
  {
   "cell_type": "markdown",
   "id": "1f002459",
   "metadata": {},
   "source": [
    "**Resultado o efecto del tratamiento:**\n",
    "\n",
    "Como el p-valor es menor a 0.05, rechazamos la hipótesis nula.\n",
    "\n",
    "\n",
    "Por lo tanto los tratamientos afectan significativamente la producción de semillas.\n",
    "\n",
    "Por otro lado, se demuestra que no todos los tratemeintos son iguales, por lo cual se recomienda hacer una comparacion para ver cuales son mejor"
   ]
  },
  {
   "cell_type": "code",
   "execution_count": 4,
   "id": "4594ff4f",
   "metadata": {},
   "outputs": [
    {
     "name": "stderr",
     "output_type": "stream",
     "text": [
      "c:\\Users\\$\\AppData\\Local\\Programs\\Python\\Python313\\Lib\\site-packages\\pingouin\\pairwise.py:28: UserWarning: pairwise_ttests is deprecated, use pairwise_tests instead.\n",
      "  warnings.warn(\"pairwise_ttests is deprecated, use pairwise_tests instead.\", UserWarning)\n"
     ]
    },
    {
     "data": {
      "text/html": [
       "<div>\n",
       "<style scoped>\n",
       "    .dataframe tbody tr th:only-of-type {\n",
       "        vertical-align: middle;\n",
       "    }\n",
       "\n",
       "    .dataframe tbody tr th {\n",
       "        vertical-align: top;\n",
       "    }\n",
       "\n",
       "    .dataframe thead th {\n",
       "        text-align: right;\n",
       "    }\n",
       "</style>\n",
       "<table border=\"1\" class=\"dataframe\">\n",
       "  <thead>\n",
       "    <tr style=\"text-align: right;\">\n",
       "      <th></th>\n",
       "      <th>A</th>\n",
       "      <th>B</th>\n",
       "      <th>T</th>\n",
       "      <th>p-unc</th>\n",
       "      <th>p-corr</th>\n",
       "      <th>p-adjust</th>\n",
       "    </tr>\n",
       "  </thead>\n",
       "  <tbody>\n",
       "    <tr>\n",
       "      <th>0</th>\n",
       "      <td>Tratamiento 1</td>\n",
       "      <td>Tratamiento 2</td>\n",
       "      <td>-1.622273</td>\n",
       "      <td>0.122129</td>\n",
       "      <td>0.366387</td>\n",
       "      <td>bonf</td>\n",
       "    </tr>\n",
       "    <tr>\n",
       "      <th>1</th>\n",
       "      <td>Tratamiento 1</td>\n",
       "      <td>Tratamiento 3</td>\n",
       "      <td>-2.223145</td>\n",
       "      <td>0.039252</td>\n",
       "      <td>0.117757</td>\n",
       "      <td>bonf</td>\n",
       "    </tr>\n",
       "    <tr>\n",
       "      <th>2</th>\n",
       "      <td>Tratamiento 2</td>\n",
       "      <td>Tratamiento 3</td>\n",
       "      <td>-1.156553</td>\n",
       "      <td>0.262575</td>\n",
       "      <td>0.787724</td>\n",
       "      <td>bonf</td>\n",
       "    </tr>\n",
       "  </tbody>\n",
       "</table>\n",
       "</div>"
      ],
      "text/plain": [
       "               A              B         T     p-unc    p-corr p-adjust\n",
       "0  Tratamiento 1  Tratamiento 2 -1.622273  0.122129  0.366387     bonf\n",
       "1  Tratamiento 1  Tratamiento 3 -2.223145  0.039252  0.117757     bonf\n",
       "2  Tratamiento 2  Tratamiento 3 -1.156553  0.262575  0.787724     bonf"
      ]
     },
     "execution_count": 4,
     "metadata": {},
     "output_type": "execute_result"
    }
   ],
   "source": [
    "import pingouin as pg  # Librería para análisis estadístico, similar a SPSS en Python\n",
    "\n",
    "# Realizar prueba de comparaciones múltiples con corrección de Bonferroni\n",
    "bonferroni = pg.pairwise_ttests(\n",
    "    dv='Semillas',          # Variable dependiente: número de semillas\n",
    "    between='Tratamiento',  # Factor de comparación: los tratamientos\n",
    "    subject='Bloque',       # Bloque aleatorizado: cada árbol es un bloque\n",
    "    padjust='bonf',         # Método de corrección: Bonferroni\n",
    "    data=df                 # Conjunto de datos\n",
    ")\n",
    "\n",
    "# Mostrar solo las columnas clave del resultado\n",
    "bonferroni[['A', 'B', 'T', 'p-unc', 'p-corr', 'p-adjust']]\n"
   ]
  },
  {
   "cell_type": "markdown",
   "id": "e3d6ab6f",
   "metadata": {},
   "source": [
    "**PUNTO B**\n",
    "\n",
    "Aunque en el punto anterior se pudo evidencias variaciones improtantes, entre los tratameintos, el tyest de boferroni, no tiene o no identifica diferencias estadisticas muy relevantes entro los pares\n",
    "\n",
    "Esto puede ser tambien causado por Bonferroni, es muy consevador y puede darnos una disminucion en la eficacia estatidisca en muestra muy reducidas \n"
   ]
  }
 ],
 "metadata": {
  "kernelspec": {
   "display_name": "Python 3",
   "language": "python",
   "name": "python3"
  },
  "language_info": {
   "codemirror_mode": {
    "name": "ipython",
    "version": 3
   },
   "file_extension": ".py",
   "mimetype": "text/x-python",
   "name": "python",
   "nbconvert_exporter": "python",
   "pygments_lexer": "ipython3",
   "version": "3.13.4"
  }
 },
 "nbformat": 4,
 "nbformat_minor": 5
}
